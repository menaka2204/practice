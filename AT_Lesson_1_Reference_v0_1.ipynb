{
  "nbformat": 4,
  "nbformat_minor": 0,
  "metadata": {
    "colab": {
      "name": "AT - Lesson 1 - Reference - v0.1",
      "provenance": [],
      "collapsed_sections": [],
      "include_colab_link": true
    },
    "kernelspec": {
      "name": "python3",
      "display_name": "Python 3"
    }
  },
  "cells": [
    {
      "cell_type": "markdown",
      "metadata": {
        "id": "view-in-github",
        "colab_type": "text"
      },
      "source": [
        "<a href=\"https://colab.research.google.com/github/menaka2204/practice/blob/master/AT_Lesson_1_Reference_v0_1.ipynb\" target=\"_parent\"><img src=\"https://colab.research.google.com/assets/colab-badge.svg\" alt=\"Open In Colab\"/></a>"
      ]
    },
    {
      "cell_type": "markdown",
      "metadata": {
        "id": "mFDyd3uB4WBx",
        "colab_type": "text"
      },
      "source": [
        "# Lesson 1: Mind Reader Game - Variables & Data-Types\n"
      ]
    },
    {
      "cell_type": "markdown",
      "metadata": {
        "id": "yxzNzKeAGUfR",
        "colab_type": "text"
      },
      "source": [
        "**WARNING:** The reference notebook is meant **ONLY** for a teacher. Please **DON'T** share it with any student. \n",
        "\n",
        "The contents of the reference notebook are meant only to prepare a teacher for a class. To conduct the class, use the class copy of the reference notebook. The link and the instructions for the same are provided in the **Notes To The Teacher** section.\n",
        "\n",
        "\n",
        "|Particulars|Description|\n",
        "|-|-|\n",
        "|**Topic**|Mind Reader Game - Variables & Data-Types|\n",
        "|||\n",
        "|**Class Description**|A student learns to create a simple algorithm for the Mind Reader game that uses artificial intelligence to predict the player's next move|\n",
        "|||\n",
        "|**Class**|C1|\n",
        "|||\n",
        "|**Class Time**|45 minutes|\n",
        "|||\n",
        "|**Goal**|Create a very simple algorithm for the Mind Reader game|\n",
        "||Create variables to store different Python data-types|\n",
        "|||\n",
        "|**Teacher Resources**|Link to the Mind Reader game|\n",
        "||Link to the trial class Google Colab reference notebook|\n",
        "||Google Account|\n",
        "||Laptop with internet connectivity|\n",
        "||Earphones with mic|\n",
        "|||\n",
        "|**Student Resources**|Link to the Mind Reader game|\n",
        "||Google Account|\n",
        "||Laptop with internet connectivity|\n",
        "||Earphones with mic|"
      ]
    },
    {
      "cell_type": "markdown",
      "metadata": {
        "id": "JPG2olCaGYH9",
        "colab_type": "text"
      },
      "source": [
        "---"
      ]
    },
    {
      "cell_type": "markdown",
      "metadata": {
        "id": "DNKpRVAMGYwz",
        "colab_type": "text"
      },
      "source": [
        "### Class Structure\n",
        "\n",
        "A class is divided into three parts, as shown in the table below.\n",
        "\n",
        "|Parts|Duration|\n",
        "|-|-|\n",
        "|**Warm-Up**|9 minutes|\n",
        "|||\n",
        "|**Teacher-Student Activities**|30 minutes|\n",
        "|||\n",
        "|**Wrap-Up**|6 minutes|"
      ]
    },
    {
      "cell_type": "markdown",
      "metadata": {
        "id": "atW_5U_Ty-BO",
        "colab_type": "text"
      },
      "source": [
        "---"
      ]
    },
    {
      "cell_type": "markdown",
      "metadata": {
        "id": "BKa-sXfiGkZ3",
        "colab_type": "text"
      },
      "source": [
        "### Notes To The Teacher\n",
        "\n",
        "Before beginning the class:\n",
        "\n",
        "1. Open the **AT - Lesson 1 - Class Copy - v0.1** file by clicking on the link provided in the **Activities** section under the title **Mind Reader Game - Variables & Data-Types (Class Copy)**.  \n",
        "\n",
        "2. After opening the file mentioned in the first point, create its duplicate copy by following the steps described below:\n",
        "\n",
        "    - Click on the **File** menu. A new drop-down list will appear.\n",
        "\n",
        "      <img src='https://student-datasets-bucket.s3.ap-south-1.amazonaws.com/images/lesson-0/0_file_menu.png' width=500>\n",
        "\n",
        "    - Click on the **Save a copy in Drive** option. A duplicate copy will get created. It will open up in the new tab on your web browser.\n",
        "\n",
        "      <img src='https://student-datasets-bucket.s3.ap-south-1.amazonaws.com/images/lesson-0/1_create_colab_duplicate_copy.png' width=500>\n",
        "\n",
        "    - In the duplicate copy, click on the **Share** button on the top right corner of the notebook. A new dialog box will appear.\n",
        "\n",
        "      <img src='https://student-datasets-bucket.s3.ap-south-1.amazonaws.com/images/lesson-0/2_share_button.png' width=500>\n",
        "\n",
        "    - Click on the tiny downward arrow next to **Anyone with the link can view** text. A drop-down list will appear.\n",
        "\n",
        "      <img src='https://student-datasets-bucket.s3.ap-south-1.amazonaws.com/images/lesson-0/3_anyone_can_view.png' width=500>\n",
        "\n",
        "    - Click on the **More...** option. A new page on the dialog box will appear.\n",
        "\n",
        "      <img src='https://student-datasets-bucket.s3.ap-south-1.amazonaws.com/images/lesson-0/4_more_option.png' width=500>\n",
        "\n",
        "    - Click on the circle next to **On - Anyone with the link** option. Now, go down and click on the tiny downward box next to **Can edit** text. A drop-down list will appear.\n",
        "\n",
        "      <img src='https://student-datasets-bucket.s3.ap-south-1.amazonaws.com/images/lesson-0/5_anyone_with_the_link.png' width=500>\n",
        "\n",
        "    - Click on the **Can edit** option. Then click on the **Save** button. You will be directed back to the first page of the dialog box.\n",
        "\n",
        "      <img src='https://student-datasets-bucket.s3.ap-south-1.amazonaws.com/images/lesson-0/6_can_edit.png' width=500>\n",
        "\n",
        "    - Make sure that under the **Link sharing on** section, **Anyone with the link can edit** option is selected. \n",
        "\n",
        "      <img src='https://student-datasets-bucket.s3.ap-south-1.amazonaws.com/images/lesson-0/7_anyone_can_edit.png' width=500>\n",
        "\n",
        "    - Then click on the **Done** button.\n",
        "\n",
        "\n",
        "3. After creating the duplicate copy of the notebook, please rename it in the **YYYY-MM-DD_StudentName_Lesson1** format. \n",
        "\n",
        "4. Now, finish the **Warm-Up** section. Afterwards, proceed with the class using the duplicate copy of the notebook. You can share the link of the duplicate copy (named as **YYYY-MM-DD_StudentName_Lesson1**) with the student through the chat window.\n",
        "\n",
        "5. When a student executes the code for the first time in the duplicate copy that you shared with them, they may get the following warning:\n",
        "\n",
        "   ```\n",
        "    Warning: This notebook was not authored by Google. This notebook was \n",
        "    authored by xyz@gmail.com. It may request access to your data stored \n",
        "    with Google such as files, emails and contacts. Please review the source \n",
        "    code and contact the creator of this notebook at xyz@gmail.com with any \n",
        "    additional questions. \n",
        "\n",
        "                                                      Cancel. Run Anyway.\n",
        "  ```\n",
        "\n",
        "6. Ask the student to click on the `Run Anyway` button.\n",
        "\n",
        "7. If you see the hat (**^**) sign on the heading of an activity, give a hats-off to the student at the end of the activity.\n",
        "\n",
        "    - Single hat sign, i.e., **^** denotes give hats-off for concentration. You have to assess the concentration level of a student based on their attentiveness and understanding of the concept.\n",
        "\n",
        "    - Double hat signs, i.e., **^^** denotes give hats-off for creativity. It can be an alternative approach to writing a code for an activity or applying the logic in a totally different problem statement.\n",
        "\n",
        "    - Triple hat signs, i.e., **^^^** denotes give hats-off for persistence. It is the ability of a student to not give up on writing code and writing code with minimal teacher support.\n",
        "\n",
        "8. Every time you execute your code in the Google Colab notebook, please don't forget to save it by pressing the **Ctrl + S** keys (or **Command + S** keys if you are using a Mac). While saving the notebook, you or student may encounter the following error:\n",
        "\n",
        "   ```\n",
        "    Save failed\n",
        "    \n",
        "    The notebook has been changed outside of this session. Would you like to \n",
        "    overwrite existing changes?\n",
        "    \n",
        "                                                              CANCEL    YES\n",
        "   ```\n",
        "\n",
        "   Click on the `YES` button.\n",
        "\n",
        "9. Occasionally, you may encounter some error such as `NameError, ReferenceError, ImportError` or `ModuleNotFoundError` after executing the code in $k^{th}$ code cell (where $k > 0$). Most likely, due to poor internet speed, the Colab notebook might have lost the information that all the previous codes have been executed already. As a remedy, run codes in the code cells beginning from the first code cell till the $(k - 1)^{th}$ code cell. For e.g., if the code in the $5^{th}$ code cell fails to run because of one of the aforementioned errors, execute the codes in all the first four code cells again.\n",
        "\n",
        "10. For every **Teacher Action**, the teacher is supposed to share their screen with the student. Similarly, for every **Student Action**, the student is supposed to share their screen with the teacher.\n"
      ]
    },
    {
      "cell_type": "markdown",
      "metadata": {
        "id": "TYrprTmHATAF",
        "colab_type": "text"
      },
      "source": [
        "---"
      ]
    },
    {
      "cell_type": "markdown",
      "metadata": {
        "id": "fLTdiPEl4rMf",
        "colab_type": "text"
      },
      "source": [
        "### Warm-Up\n",
        "\n",
        "```\n",
        "TEACHER\n",
        "  Hi <student_name>! How are you doing?\n",
        "\n",
        "EXPECTED STUDENT RESPONSE\n",
        "  I am doing good, teacher. How about you?\n",
        "\n",
        "\n",
        "TEACHER\n",
        "  I am having a good time too, thank you. So, how was your day?  \n",
        "  What did you do today?\n",
        "\n",
        "EXPECTED STUDENT RESPONSE \n",
        "  I went to school. Had my lunch. Played a game and then did my homework \n",
        "  before this class.\n",
        "\n",
        "\n",
        "TEACHER\n",
        "  That's great. I am glad that you are having a good day. Today we will talk \n",
        "  about Artificial Intelligence or AI. Could you tell me what do you know \n",
        "  about AI?\n",
        "\n",
        "EXPECTED STUDENT RESPONSE \n",
        "  AI is a concept in which a computer does something on its own.\n",
        "\n",
        "\n",
        "TEACHER\n",
        "  You are quite right. So, tell me of some of the applications of AI in \n",
        "  real-life?\n",
        "\n",
        "EXPECTED STUDENT RESPONSE\n",
        "  Driverless cars, robots, Siri etc.\n",
        "\n",
        "\n",
        "TEACHER\n",
        "  Very good! You are absolutely correct. As you said, AI is giving an \n",
        "  ability to machines or computers to think on their own to perform some \n",
        "  specialised task. Those tasks can be driving a car on its own, a personal \n",
        "  assistant such as Siri or a home assistant such as Alexa.\n",
        "\n",
        "  AI has a widespread application in real-world problems. You can apply \n",
        "  the AI concepts in engineering, medical science, finance, social science, \n",
        "  space science, driverless cars etc.\n",
        "\n",
        "  Finding planets beyond our solar system, detecting whether a person has \n",
        "  cancer or not, predicting stock prices are some of the prominent \n",
        "  applications of AI in general. Similarly, a car driving itself in traffic \n",
        "  and non-traffic conditions, good and bad weather conditions are one of the \n",
        "  most challenging and exciting problems of driverless cars. You will learn \n",
        "  such concepts in this course.\n",
        "\n",
        "  But before we start learning AI, I want to show you one AI-based game \n",
        "  called Mind Reader. In this game, a player clicks on either the 'Heads' or \n",
        "  'Tails' button. The computer predicts which button a player is going to \n",
        "  press. If the computer predicts the player's  move correctly, then the \n",
        "  computer will get 1 point else the player will get 1 point. The game runs \n",
        "  until either the player or the computer reaches a score of 50.\n",
        "\n",
        "  Note:\n",
        "    - The teacher clicks on the second link provided in the \n",
        "      'Activities' section under the title 'Mind Reader Game' to open the \n",
        "      game.\n",
        "    - The teacher shares their screen with the student.\n",
        "```\n",
        "\n",
        "<img src='https://student-datasets-bucket.s3.ap-south-1.amazonaws.com/images/mind_reader_game.png' width=400>\n",
        "\n",
        "\n",
        "```    \n",
        "EXPECTED STUDENT RESPONSE\n",
        "  Student observes.\n",
        "\n",
        "\n",
        "TEACHER\n",
        "  So, this is a Mind Reader Game. Can you see it?\n",
        "\n",
        "EXPECTED STUDENT RESPONSE\n",
        "  Yes. I can see it.\n",
        "\n",
        "\n",
        "TEACHER\n",
        "  Good. Here, 'AI Bot' denotes the computer and 'You' denotes the player \n",
        "  playing this game. Suppose a player clicks on the 'Heads' button and the \n",
        "  computer predicts it correctly, then 'AI Bot' score will increase and the \n",
        "  height of the red bar will also increase. Can you see it?\n",
        "\n",
        "```\n",
        "\n",
        "<img src='https://student-datasets-bucket.s3.ap-south-1.amazonaws.com/images/bot_score.png' width=400>\n",
        "\n",
        "\n",
        "```\n",
        "EXPECTED STUDENT RESPONSE\n",
        "  Yes. I can see it.\n",
        "\n",
        "\n",
        "TEACHER\n",
        "  All right. Now I will stop sharing my screen. You share your screen with \n",
        "  me and then play this game. Remember that you have to beat the computer. \n",
        "  The computer should not be able to correctly predict on what button you \n",
        "  are going to click.\n",
        "\n",
        "  Note:\n",
        "    - The student shares their screen with the teacher.\n",
        "    - The teacher asks the student to click on the second link provided in \n",
        "      the 'Activities' section under the title 'Mind Reader Game' to open \n",
        "      the game.\n",
        "\n",
        "EXPECTED STUDENT RESPONSE\n",
        "  The student shares his/her screen and starts playing the Mind Reader game.\n",
        "  Most likely, the student will lose in the game. \n",
        "\n",
        "\n",
        "TEACHER\n",
        "  Now that you have played the game, do you want to know how it was able to\n",
        "  predict which button between 'Heads' and 'Tails' you are going to click?\n",
        "\n",
        "EXPECTED STUDENT RESPONSE\n",
        "  Yes, teacher. I am curious to know how it was able to predict my move.\n",
        "\n",
        "\n",
        "TEACHER\n",
        "  The computer was keeping a track of your previous inputs, i.e., in the \n",
        "  previous attempts, whether you played 'Heads' or 'Tails'. It was looking \n",
        "  for a pattern in your inputs and based on that pattern, it was predicting \n",
        "  what would be your next move. \n",
        "\n",
        "  Now, you might ask why the score goes only to 50 points. Why not 100 or 10?\n",
        "  The number 50 also has some significance. The computer needs to \n",
        "  continually keep a track of your inputs. If the scoring was only till 10 \n",
        "  points, then you could have easily defeated the computer because then it \n",
        "  wouldn’t have tracked enough number of your previous inputs. On the other \n",
        "  hand, if 100 points were needed to win the game, then the computer would \n",
        "  have easily recognised the pattern of your inputs by tracking a lot of\n",
        "  your previous inputs. Hence, it would have been nearly impossible for you \n",
        "  to win the game. \n",
        "\n",
        "  I hope you understood everything I told you so far.\n",
        "\n",
        "EXPECTED STUDENT RESPONSE\n",
        "  Yes, teacher.\n",
        "\n",
        "\n",
        "TEACHER\n",
        "  Great. In the first few classes of this course, you will learn how to \n",
        "  create an algorithm for the Mind Reader game and in the process of doing \n",
        "  so, you will learn the basics of Python programming.\n",
        "\n",
        "  Python is one of the simplest computer programming languages. It is most \n",
        "  relevant to the field of AI because of its simplicity. Also, a lot of \n",
        "  ready-made algorithms relevant to AI are readily available in Python. \n",
        "\n",
        "  Now, I am going to share a link with you. Open the link in the new tab of \n",
        "  your web browser.\n",
        "  \n",
        "  Note:\n",
        "    - Share the duplicate copy of the Colab notebook that you created with \n",
        "      the student through the chat window.\n",
        "\n",
        "EXPECTED STUDENT RESPONSE:\n",
        "  Student opens the duplicate copy of the Colab notebook.\n",
        "\n",
        "\n",
        "TEACHER\n",
        "  So, are you excited to learn Python programming and to create an \n",
        "  algorithm for this game?\n",
        "\n",
        "EXPECTED STUDENT RESPONSE\n",
        "  Yes, teacher. I am very excited.\n",
        "\n",
        "\n",
        "TEACHER\n",
        "  Great. Let's get started.\n",
        "\n",
        "EXPECTED STUDENT RESPONSE\n",
        "  Ok teacher.\n",
        "```"
      ]
    },
    {
      "cell_type": "markdown",
      "metadata": {
        "id": "wkj-WYxT_WOV",
        "colab_type": "text"
      },
      "source": [
        "---"
      ]
    },
    {
      "cell_type": "markdown",
      "metadata": {
        "id": "2mRs675tV9i8",
        "colab_type": "text"
      },
      "source": [
        "### Teacher-Student Activities\n",
        "\n",
        "Before creating the actual algorithm for the Mind Reader game, let's try to build a very simple algorithm in which a computer randomly predicts a player's next move. In the subsequent classes, we will learn the actual algorithm. \n",
        "\n",
        "In the very simple version of the Mind Reader game algorithm, a computer randomly predicts `Heads` or `Tails` for every player input.\n",
        "\n",
        "An algorithm is a well-defined and well-structured logic written in very clear and concise steps. For e.g., in case of the Mind Reader game, we want the computer to randomly predict the player inputs. Therefore, the very simple version of the Mind Reader game algorithm should implement the following steps:\n",
        "\n",
        "1. The computer should ask a player to enter either `0` or `1` as an input where `0` stands for `Heads` and `1` stands for `Tails`.\n",
        "\n",
        "2. The computer should print the player input.\n",
        "\n",
        "3. Regardless of the player input, the computer should predict `0` or `1` randomly where `0` stands for `Heads` and `1` stands for `Tails`.\n",
        "\n",
        "3. The computer should print the value predicted by the computer.\n",
        "\n",
        "After following the above three steps, we should get the following algorithm:\n",
        "\n",
        "```\n",
        "import random\n",
        "\n",
        "player_input = input(\"Enter either 0 or 1: \")\n",
        "print(\"You entered\", player_input)\n",
        "predict = random.randint(0, 1)\n",
        "print(\"Computer predicted\", predict)\n",
        "```\n",
        "\n",
        "**Note:** An algorithm is not specific to a computer programming language. It is just a logic that can be implemented in any computer programming language.\n"
      ]
    },
    {
      "cell_type": "markdown",
      "metadata": {
        "id": "QEV4jQkV4MDR",
        "colab_type": "text"
      },
      "source": [
        "---"
      ]
    },
    {
      "cell_type": "markdown",
      "metadata": {
        "id": "95EjFl8fYThf",
        "colab_type": "text"
      },
      "source": [
        "#### Activity 1: The `print()` Function\n",
        "\n",
        "As part of the algorithm, we need to print two messages to the player of the Mind Reader game. They are:\n",
        "\n",
        "1. `\"You entered\"` \n",
        "\n",
        "2. `\"Computer predicted\"`\n",
        "\n",
        "Let's learn how to do that. In Python, you can print anything using the `print()` function. \n",
        "\n",
        "**What is a function?**\n",
        "\n",
        "A function is like a device which takes some input and produces some output. For e.g., a juicer is a device which takes a fruit as an input and produces the juice of that fruit as an output. We will learn about functions in detail in the subsequent classes.\n",
        "\n",
        "Let's print `\"You entered\"` message using the `print()` function. The text `\"You entered\"` is an input to the `print()` function. The output would also be the same.\n",
        "\n",
        "When using the `print()` function, enclose the text that you need to print either in the single-quotes (`''`) or in double-quotes (`\"\"`). \n",
        "\n",
        "To run the code, either click on the `Play` button on the left-hand side of the code cell or press the `shift` and `enter` keys together while you are active in the code cell."
      ]
    },
    {
      "cell_type": "code",
      "metadata": {
        "id": "LOuPp_5WVLKM",
        "colab_type": "code",
        "colab": {
          "base_uri": "https://localhost:8080/",
          "height": 34
        },
        "outputId": "a819f070-3506-4821-a5d7-62e2e0d622a9"
      },
      "source": [
        "# Teacher Action: Print \"You entered\" message to a player using the 'print()' function.\n",
        "print(\"You entered\")"
      ],
      "execution_count": null,
      "outputs": [
        {
          "output_type": "stream",
          "text": [
            "You entered\n"
          ],
          "name": "stdout"
        }
      ]
    },
    {
      "cell_type": "markdown",
      "metadata": {
        "colab_type": "text",
        "id": "vKDJiweDwn2e"
      },
      "source": [
        "So, we have printed `\"You entered\"`. Notice that the text written after the hash (`#`) symbol is not a code rather it is a plain text. Anything written after `#` is read as a plain text by Python. Such plain texts are called **comments** made by a coder to briefly explain the code.\n",
        "\n",
        "Now you print `\"Computer predicted\"` message using the `print()` function."
      ]
    },
    {
      "cell_type": "code",
      "metadata": {
        "id": "OUCYA-WXXDwd",
        "colab_type": "code",
        "colab": {
          "base_uri": "https://localhost:8080/",
          "height": 34
        },
        "outputId": "b19d00c0-5116-4248-d931-e473bfd585c1"
      },
      "source": [
        "# Student Action: Print \"Computer predicted\" message to a player using the 'print()' function.\n",
        "print(\"Computer predicted\")"
      ],
      "execution_count": null,
      "outputs": [
        {
          "output_type": "stream",
          "text": [
            "Computer predicted\n"
          ],
          "name": "stdout"
        }
      ]
    },
    {
      "cell_type": "markdown",
      "metadata": {
        "id": "eC5-Kf5ne1ON",
        "colab_type": "text"
      },
      "source": [
        "---"
      ]
    },
    {
      "cell_type": "markdown",
      "metadata": {
        "id": "Ww9Zh65UZ-M3",
        "colab_type": "text"
      },
      "source": [
        "#### Activity 2: Variables And Data-Types^\n",
        "\n",
        "As part of the algorithm, the Mind Reader game should take input (either `0` or `1` where `0` indicates `Heads` and `1` indicates `Tails`) from a player and store it somewhere so that we can use the input value later. To store a value, we need to create a variable.\n",
        "\n",
        "**What is a variable?**\n",
        "\n",
        "A variable is like a container. For example, a mug stores coffee or tea, a tiffin box stores your school lunch. Similarly in Python, a variable stores a value which is either a text (for e.g., `\"You entered\"`) or a number or any other data-type.\n",
        "\n",
        "**What are data-types in Python?**\n",
        "\n",
        "The data types in Python are as follows:\n",
        "\n",
        "1. *An integer* (denoted as `int`): a number without the decimal point. For e.g., `0, 1, -234, 12500` etc.\n",
        "\n",
        "2. *A floating-point number* (denoted as `float`): a number having a digit after the decimal point. For e.g., `0.0, 1.0, 3.14, 1.618` etc.\n",
        "\n",
        "3. *A string* (denoted as `str`): a value enclosed between either single-quotes (`''`) or double-quotes (`\"\"`). For e.g., `\"Computer predicted\"`, `'Windows 10'`, `'Xbox 360'` etc.  \n",
        "\n",
        "4. *A boolean* (denoted as `bool`): either `True` or `False` value. The 'Yes' or 'No' values are generally represented as `True` or `False` in Python. It cannot understand Yes or No because that's how Python has been designed by its creators.\n",
        "\n",
        "**Note:**\n",
        "1. The `T` in `True` and `F` in `False` must be capital because Python is case-sensitive.\n",
        "\n",
        "2. A variable can store only one value at a time.\n",
        "\n",
        "Now, let's practice Python variables by storing the various information about Mercury and Saturn planets in variables.\n",
        "\n",
        "||Mercury|Saturn|\n",
        "|-|-|-|\n",
        "|Diameter ($km$)|4879|120536|\n",
        "|Gravity ($m/s^2$)|3.7|9.0|\n",
        "|Ring|No|Yes|\n",
        "\n",
        "\n"
      ]
    },
    {
      "cell_type": "code",
      "metadata": {
        "id": "h-abfjmcA1c6",
        "colab_type": "code",
        "colab": {}
      },
      "source": [
        "# Teacher Action: Create 4 different variables and store the planet name, diameter, gravity and ring values of the first planet in the variables.\n",
        "# 1. Store a string value in a variable\n",
        "planet1_name = \"Mercury\"\n",
        "\n",
        "# 2. Store an integer value in a variable.\n",
        "planet1_dia = 4789\n",
        "\n",
        "# 3. Store a float-point number in a variable.\n",
        "planet1_gravity = 3.7\n",
        "\n",
        "# 4. Store a boolean value in a number.\n",
        "# Python can also store a boolean value, i.e., either True or False. \n",
        "# The 'Yes' or 'No' values are generally represented as True or False in Python. It cannot understand Yes or No.\n",
        "planet1_has_ring = False\n",
        "\n",
        "# If we run the code cell, we won't get any output. But the values will be assigned to these 4 variables."
      ],
      "execution_count": null,
      "outputs": []
    },
    {
      "cell_type": "markdown",
      "metadata": {
        "id": "ZAxW4fIcQPNn",
        "colab_type": "text"
      },
      "source": [
        "So far we have stored 4 different types of values in 4 different variables. Now, let's print the values stored in these variables using the `print()` function."
      ]
    },
    {
      "cell_type": "code",
      "metadata": {
        "id": "YZWNWc9cQNLl",
        "colab_type": "code",
        "colab": {
          "base_uri": "https://localhost:8080/",
          "height": 85
        },
        "outputId": "d8384327-74fa-4192-9074-79e9353edc96"
      },
      "source": [
        "# Teacher Action: Print the values stored in all the 4 variables.\n",
        "print(planet1_name)\n",
        "print(planet1_dia)\n",
        "print(planet1_gravity)\n",
        "print(planet1_has_ring)"
      ],
      "execution_count": null,
      "outputs": [
        {
          "output_type": "stream",
          "text": [
            "Mercury\n",
            "4789\n",
            "3.7\n",
            "False\n"
          ],
          "name": "stdout"
        }
      ]
    },
    {
      "cell_type": "markdown",
      "metadata": {
        "id": "3KoCO6gacmav",
        "colab_type": "text"
      },
      "source": [
        "As a good practice, name a variable in such a way that it reflects the nature of the value stored in it. In this case, the value that needs to be stored is the diameter of a planet. So, we have named a variable `planet1_dia` suggesting that the value stored in it is indeed the diameter of a planet.\n",
        "\n",
        "This is just a good practice. It is NOT compulsory to name a variable in this manner. You are free to provide any name to your variable. \n",
        "\n",
        "**Note:**\n",
        "\n",
        "- The first letter of a variable must be a lowercase letter. Otherwise, your variable name may clash with the existing predefined Python functions and objects. \n",
        "\n",
        "- Never name a variable beginning with a number. For e.g., the variable `1st_prize_winner` begins with the number `1`. Avoid creating variables with such names as it is a very bad practice. \n",
        "\n",
        "- As part of the naming process of a variable, never provide spaces between two or more letters or words because Python will consider them as different variables. For e.g., the variable `planet1 dia` are actually two different variables. So either provide no space between two words or letters in a variable or add the underscore (`_`) sign between them.\n",
        "\n",
        "Now, it's your turn to write the codes."
      ]
    },
    {
      "cell_type": "code",
      "metadata": {
        "id": "oGvlD4fb7KGx",
        "colab_type": "code",
        "colab": {
          "base_uri": "https://localhost:8080/",
          "height": 85
        },
        "outputId": "78ec756a-2a89-4eec-841b-924b5fd2a51e"
      },
      "source": [
        "# Student Action: Create 4 different variables and store the planet name, diameter, gravity and ring values of the second planet in them.\n",
        "# 1. Create a variable and name it 'planet2_name'. Store the value \"Saturn\" in it.\n",
        "planet2_name = \"Saturn\"\n",
        "\n",
        "# 2. Create a variable and name it 'planet2_dia'. Store the diameter value of Saturn in it.\n",
        "planet2_dia = 120536\n",
        "\n",
        "# 3. Create a variable and name it 'planet2_gravity. Store the gravity value of Saturn in it.\n",
        "planet2_gravity = 9.0\n",
        "\n",
        "# 4. Create a variable and name it 'planet2_has_ring'. Store True in it.\n",
        "planet2_has_ring = True\n",
        "\n",
        "# Print the values stored in all the 4 variables.\n",
        "print(planet2_name)\n",
        "print(planet2_dia)\n",
        "print(planet2_gravity)\n",
        "print(planet2_has_ring)"
      ],
      "execution_count": null,
      "outputs": [
        {
          "output_type": "stream",
          "text": [
            "Saturn\n",
            "120536\n",
            "9.0\n",
            "True\n"
          ],
          "name": "stdout"
        }
      ]
    },
    {
      "cell_type": "markdown",
      "metadata": {
        "id": "ZFlx26pK8EPr",
        "colab_type": "text"
      },
      "source": [
        "So in this way, we can store some information (or data) in a variable and print their values using the `print()` function.\n",
        "\n",
        "After the class, you can refer to the link provided in the **Activities** section under the title **NASA Planetary Fact Sheet** to get the most accurate facts about the planets in our solar system."
      ]
    },
    {
      "cell_type": "markdown",
      "metadata": {
        "id": "dN-Mc4dg7xvt",
        "colab_type": "text"
      },
      "source": [
        "---"
      ]
    },
    {
      "cell_type": "markdown",
      "metadata": {
        "id": "9uje_j6zditR",
        "colab_type": "text"
      },
      "source": [
        "#### Activity 3: The `input()` Function^^\n",
        "\n",
        "As part of the algorithm, the Mind Reader game needs to ask a player to enter either `0` or `1` where `0` denotes `Heads` and `1` denotes `Tails`.\n",
        " \n",
        "To take input from a user in Python, you can use another function called `input()`.\n",
        "\n",
        "Let's ask the player of the Mind Reader game to enter either `0` or `1` and store it in the `player_input` variable. Inside the `input()` function, you can also write a message to the player to display the message before taking the required input.\n",
        "\n",
        "In the next line, let's also print the value stored in the `player_input` variable.\n",
        "\n"
      ]
    },
    {
      "cell_type": "code",
      "metadata": {
        "id": "-dpOB_mse2kx",
        "colab_type": "code",
        "colab": {
          "base_uri": "https://localhost:8080/",
          "height": 51
        },
        "outputId": "9460221a-b6f2-4e72-8cee-6a8b26f4e83f"
      },
      "source": [
        "# Teacher Action: Take input from a user and store it in the 'player_input' variable.\n",
        "player_input = input(\"Enter either 0 or 1: \")\n",
        "print(\"You entered\", player_input)"
      ],
      "execution_count": null,
      "outputs": [
        {
          "output_type": "stream",
          "text": [
            "Enter either 0 or 1: 0\n",
            "You entered 0\n"
          ],
          "name": "stdout"
        }
      ]
    },
    {
      "cell_type": "markdown",
      "metadata": {
        "id": "dnqIGlzzeSda",
        "colab_type": "text"
      },
      "source": [
        "Here, using the `print()` function, we printed a message `\"You entered\"` along with the value stored in the `player_input` variable. The message and the `player_input` are separated by a comma. \n",
        "\n",
        "*You can print multiple entities using the `print()` function by separating them with a comma.*\n",
        "\n",
        "Now, you ask a player to enter their name using the `input()` function,  display the `\"Enter your name: \"` message while taking the input and store the name entered by the player in the `player_name` variable. Then print the following message using the `print()` function.\n",
        "\n",
        "`\"Hello, player_name ! Welcome to the Mind Reader Game.\"` \n",
        "\n",
        "where `player_name` is the name entered by the player."
      ]
    },
    {
      "cell_type": "code",
      "metadata": {
        "id": "5LD6mU8GtwOK",
        "colab_type": "code",
        "colab": {
          "base_uri": "https://localhost:8080/",
          "height": 51
        },
        "outputId": "86592b1a-9b6d-4188-ecbd-0f005ab5a4e3"
      },
      "source": [
        "# Student Action: Write a code to take input from a player and then print \"Hello, player_name ! Welcome to the Mind Reader Game\" message.\n",
        "# Create a variable and name it 'player_name'. Take input from the player using the 'input()' function.\n",
        "player_name = input(\"Enter your name: \")\n",
        "\n",
        "# Print \"Hello, player_name ! Welcome to the Mind Reader Game.\"\n",
        "print(\"Hello,\", player_name, \"! Welcome to the Mind Reader Game.\")"
      ],
      "execution_count": null,
      "outputs": [
        {
          "output_type": "stream",
          "text": [
            "Enter your name: Bruce Wayne!\n",
            "Hello, Bruce Wayne! ! Welcome to the Mind Reader Game.\n"
          ],
          "name": "stdout"
        }
      ]
    },
    {
      "cell_type": "markdown",
      "metadata": {
        "id": "faTX4j4_nQCR",
        "colab_type": "text"
      },
      "source": [
        "---"
      ]
    },
    {
      "cell_type": "markdown",
      "metadata": {
        "id": "NhWXS7kufHgs",
        "colab_type": "text"
      },
      "source": [
        "#### Activity 4: Importing A Module\n",
        "\n",
        "So far we have completed the first two steps of creating the Mind Reader game algorithm, i.e., taking an input from a player and then printing the input given by the player.\n",
        "\n",
        "```\n",
        "import random\n",
        "\n",
        "player_input = input(\"Enter either 0 or 1: \")\n",
        "print(\"You entered\", player_input)\n",
        "```\n",
        "\n",
        "For the next step, we need the computer to predict `0` or `1` randomly where `0` denotes `Heads` and `1` denotes `Tails`. For this step, we need a function called `randint()` which returns a random integer between two integers. In our case, it must return either `0` or `1` randomly.\n",
        "\n",
        "However, we can't use this function directly like the `print()` and `input()` functions. We first need to import a module called `random`.\n",
        "\n",
        "Some functions in Python cannot be used directly. To use such a function, you first need to import a module in which that function exists and then use the required function. \n",
        "\n",
        "*For all practical purposes, a module is a collection of some special functions which are used occasionally.*\n",
        "\n",
        "The **syntax** for using a special function which exists in a module is\n",
        "\n",
        "`import module_name`    \n",
        "\n",
        "`module_name.function_name`\n",
        "\n",
        "**Note:** \n",
        "\n",
        "1. A syntax is like a grammar of a programing language. It is a standard protocol that must be following while writing code.\n",
        "\n",
        "2. Always import a module at the very beginning in your code. \n",
        "\n",
        "3. A module needs to be imported only once. However, both the student and the teacher has to import a module at-least-once at their respective ends.\n",
        "\n",
        "4. The dot (`.`) operator is used to call a function from a module.\n",
        "\n",
        "4. Based on your requirements you can use the relevant modules which are listed on the official Python documentation. The link to the Python official documentation is provided in the **Activities** section under the title **Python Official Documentation**.\n",
        "\n",
        "Let's try to generate a random number between `1` and `6` using the `randint()` function. It will return either `1, 2, 3, 4, 5` or `6`. In case you have noticed, this is a simulation of a die roll.\n",
        "\n",
        "<img src='https://student-datasets-bucket.s3.ap-south-1.amazonaws.com/images/fair-die.jpg' width=200>"
      ]
    },
    {
      "cell_type": "code",
      "metadata": {
        "id": "a4iQ512__59G",
        "colab_type": "code",
        "colab": {
          "base_uri": "https://localhost:8080/",
          "height": 34
        },
        "outputId": "5046dcd4-f6a5-495c-d05e-b02b24cea085"
      },
      "source": [
        "# Teacher Action: Import the 'random' module to use the 'randint()' function to generate an integer between 1 and 6 randomly.\n",
        "import random\n",
        "die_roll = random.randint(1, 6)\n",
        "print(die_roll)"
      ],
      "execution_count": null,
      "outputs": [
        {
          "output_type": "stream",
          "text": [
            "5\n"
          ],
          "name": "stdout"
        }
      ]
    },
    {
      "cell_type": "markdown",
      "metadata": {
        "id": "2O07tCjUu3BL",
        "colab_type": "text"
      },
      "source": [
        "In the above code,\n",
        "\n",
        "- We have first imported the `random` module\n",
        "\n",
        "- Then we have generated an integer between `1` and `6` and stored it in a variable called `die_roll`.\n",
        "\n",
        "- Then, we have printed the value stored in the `die_roll` variable using the `print()` function.\n",
        "\n",
        "You may get a different number as an output every time you run the above code. \n",
        "\n",
        "Now, using the `randint()` function, you need to \n",
        "\n",
        "- generate `0` or `1` randomly and store it in a variable called `predict`.\n",
        "\n",
        "- Then, print the value stored in the `predict` variable using the `print()` function."
      ]
    },
    {
      "cell_type": "code",
      "metadata": {
        "id": "WIjr_zTyHxhQ",
        "colab_type": "code",
        "colab": {
          "base_uri": "https://localhost:8080/",
          "height": 34
        },
        "outputId": "6d35ae48-ba43-4b32-c1bf-962c8465c59d"
      },
      "source": [
        "# Student Action: Using the 'randint()' function, generate 0 or 1 randomly.\n",
        "# 1. Import the 'random' module.\n",
        "import random\n",
        "\n",
        "# 2. Generate 0 or 1 randomly and then store the value obtained in the 'predict' variable.\n",
        "predict = random.randint(0, 1)\n",
        "\n",
        "# 3. Print the value stored in the 'predict' variable.\n",
        "print(predict)"
      ],
      "execution_count": null,
      "outputs": [
        {
          "output_type": "stream",
          "text": [
            "0\n"
          ],
          "name": "stdout"
        }
      ]
    },
    {
      "cell_type": "markdown",
      "metadata": {
        "id": "9ed6iMjYvOtd",
        "colab_type": "text"
      },
      "source": [
        "We have to import a module just once before using its functions. We don't have to import it again and again."
      ]
    },
    {
      "cell_type": "markdown",
      "metadata": {
        "id": "cOTsGjXEAAlM",
        "colab_type": "text"
      },
      "source": [
        "---"
      ]
    },
    {
      "cell_type": "markdown",
      "metadata": {
        "id": "yGBbg3WNveFT",
        "colab_type": "text"
      },
      "source": [
        "#### Activity 5: The Very Simple Algorithm^^^\n",
        "\n",
        "Now, we have successfully completed all the steps of creating a very simple Mind Reader game algorithm. Let's put all the steps together in one place to run the algorithm.\n",
        "\n",
        "We have to do the following:\n",
        "\n",
        "1. Take input from the player using the `input()` function and store it in the `player_input` variable. With the `input()` function, print the `\"Enter either 0 or 1: \"` message.\n",
        "\n",
        "2. Using the `print()` function, print the `\"You entered\"` message along with the value stored in the `player_input` variable.\n",
        "\n",
        "3. Create a variable and name it `predict`. Store the value returned by the `randint(0, 1)` function in the `predict` variable.\n",
        "\n",
        "4. Using the `print()` function, print the `\"Computer predicted\"` message along with the value stored in the `predict` variable.\n",
        "\n",
        "And voila! We have our algorithm ready."
      ]
    },
    {
      "cell_type": "code",
      "metadata": {
        "id": "yvas4G2yAKLJ",
        "colab_type": "code",
        "colab": {
          "base_uri": "https://localhost:8080/",
          "height": 68
        },
        "outputId": "8b482824-f4ba-433b-e374-5842047f602d"
      },
      "source": [
        "# Student Action: Put all the steps of creating the Mind Reader game algorithm in one place to run it.\n",
        "# 1. Create 'player_input' variable and store the input given by the player in it.\n",
        "player_input = input(\"Enter either 0 or 1: \")\n",
        "\n",
        "# 2. Print the \"You entered\" message along with the value stored in the 'player_input' variable.\n",
        "print(\"You entered\", player_input)\n",
        "\n",
        "# 3. Create a variable called 'predict' and store the value returned by the 'randint(0, 1)' function inside the variable.\n",
        "predict = random.randint(0, 1)\n",
        "\n",
        "# 4. Print the \"Computer predicted\" message along with the value stored in the 'predict' variable.\n",
        "print(\"Computer predicted\", predict)"
      ],
      "execution_count": null,
      "outputs": [
        {
          "output_type": "stream",
          "text": [
            "Enter either 0 or 1: 0\n",
            "You entered 0\n",
            "Computer predicted 1\n"
          ],
          "name": "stdout"
        }
      ]
    },
    {
      "cell_type": "markdown",
      "metadata": {
        "id": "nyhzrlAJ1ImW",
        "colab_type": "text"
      },
      "source": [
        "So we have created a very simple algorithm in which a player enters either `0` or `1` and the computer predicts `0` and `1` randomly.\n",
        "\n",
        "\n",
        "In the subsequent classes, we will add the following functionalities to the our algorithm:\n",
        "\n",
        "1. Keep a track of the scores for both the player and the computer.\n",
        "\n",
        "2. Restrict a player from entering invalid inputs, i.e., inputs other than `0` or `1`.\n",
        "\n",
        "3. Continue running the game until one of the players reaches a score of `50`.\n",
        "\n",
        "4. If the player wins, then print `\"Congrats, You Won!` else print `\"Bad Luck, You Lost!\"` messages.\n",
        "\n",
        "Additionally, we will improve the algorithm so that the computer can predict player moves accurately. \n"
      ]
    },
    {
      "cell_type": "markdown",
      "metadata": {
        "id": "Pu86T_jToJ2z",
        "colab_type": "text"
      },
      "source": [
        "---"
      ]
    },
    {
      "cell_type": "markdown",
      "metadata": {
        "id": "Og5x-0qmoK8D",
        "colab_type": "text"
      },
      "source": [
        "### Fun Fact\n",
        "\n",
        "One of the cool things about Jupyter notebook is that you don't always have to use the `print()` function to get an output. Let's say you want to print the value stored in a variable without using the `print()` function, then you simply have to write the variable at the end of the code in a code cell."
      ]
    },
    {
      "cell_type": "code",
      "metadata": {
        "id": "zO3rA3M5lf0d",
        "colab_type": "code",
        "colab": {
          "base_uri": "https://localhost:8080/",
          "height": 34
        },
        "outputId": "421a5096-3fe9-4754-818a-3d658bb75891"
      },
      "source": [
        "# Student Action: Create a variable called 'game_name' and store the value 'Mind Reader Game' in it. \n",
        "# Print the value stored in the 'game_name' variable without using the 'print()' function.\n",
        "game_name = 'Mind Reader Game'\n",
        "game_name"
      ],
      "execution_count": null,
      "outputs": [
        {
          "output_type": "execute_result",
          "data": {
            "text/plain": [
              "'Mind Reader Game'"
            ]
          },
          "metadata": {
            "tags": []
          },
          "execution_count": 11
        }
      ]
    },
    {
      "cell_type": "markdown",
      "metadata": {
        "id": "0PIfbKuHl1qX",
        "colab_type": "text"
      },
      "source": [
        "This functionality is not available in any other software for writing Python codes."
      ]
    },
    {
      "cell_type": "markdown",
      "metadata": {
        "id": "mBZsIflh5viR",
        "colab_type": "text"
      },
      "source": [
        "---"
      ]
    },
    {
      "cell_type": "markdown",
      "metadata": {
        "id": "gS7NTw4PHTSu",
        "colab_type": "text"
      },
      "source": [
        "## Additional Activities\n",
        "\n",
        "The activities starting from this point are optional. Please do these activities ONLY if you have time to spare in the class. Otherwise, skip to the Wrap-Up section. The additional activities will not be available in the class copy of the notebook. You will have to manually add these activities in the class copy by adding new text and code cells.\n",
        "\n",
        "Moreover, you don't have to do all the additional activities. Depending on the availability of time in a class, you can choose the number of additional activities to perform from this collection."
      ]
    },
    {
      "cell_type": "markdown",
      "metadata": {
        "id": "DUwnP_lMHmYn",
        "colab_type": "text"
      },
      "source": [
        "---"
      ]
    },
    {
      "cell_type": "markdown",
      "metadata": {
        "id": "delL52knHnLD",
        "colab_type": "text"
      },
      "source": [
        "#### Activity 1: Single-Line Value Assignment\n",
        "\n",
        "You can assign multiple values to multiple variables, also using the single line assignment feature of Python.\n",
        "\n",
        "Let's assign the `\"Venus\", 12104, 8.9` and `False` values to the `p_name, p_dia, p_grav` and `p_ring` variables in one line.\n",
        "\n"
      ]
    },
    {
      "cell_type": "code",
      "metadata": {
        "id": "Zr4J70VKHuff",
        "colab_type": "code",
        "colab": {
          "base_uri": "https://localhost:8080/",
          "height": 85
        },
        "outputId": "e2319f8d-fc55-474b-b160-99828cacc1ac"
      },
      "source": [
        "# Student Action: Assign the \"Venus\", 12104, 8.9 and False values to the 'p_name', 'p_dia', 'p_grav' and 'p_ring' variables in one line.\n",
        "p_name, p_dia, p_grav, p_ring = \"Venus\", 12104, 8.9, False\n",
        "print(\"Name:\", p_name) # String\n",
        "print(\"Diameter:\", p_dia) # Integer\n",
        "print(\"Gravity:\", p_grav) # Float\n",
        "print(\"Has Ring:\", p_ring) # Boolean"
      ],
      "execution_count": null,
      "outputs": [
        {
          "output_type": "stream",
          "text": [
            "Name: Venus\n",
            "Diameter: 12104\n",
            "Gravity: 8.9\n",
            "Has Ring: False\n"
          ],
          "name": "stdout"
        }
      ]
    },
    {
      "cell_type": "markdown",
      "metadata": {
        "id": "JtsBILl3HvhH",
        "colab_type": "text"
      },
      "source": [
        "**Note:** The order in which you write variables and values is the order in which the values will get assigned to the variables."
      ]
    },
    {
      "cell_type": "markdown",
      "metadata": {
        "id": "r0m8Ip36H9Dw",
        "colab_type": "text"
      },
      "source": [
        "---"
      ]
    },
    {
      "cell_type": "markdown",
      "metadata": {
        "id": "fNbqCIP_H4Zd",
        "colab_type": "text"
      },
      "source": [
        "#### Activity 2: Value Swapping\n",
        "\n",
        "Value swapping is simply interchaning the values stored in variables.\n",
        "\n",
        "Suppose you want to do the following operations:\n",
        "\n",
        "1. Interchange the values stored in the `planet1_name` and `planet2_name` variables.\n",
        "\n",
        "2. Interchange the values stored in the `planet1_dia` and `planet2_dia` variables.\n",
        "\n",
        "You can do value swapping by equating one variable with another as shown in the code below."
      ]
    },
    {
      "cell_type": "code",
      "metadata": {
        "id": "7caSYHP0H-jz",
        "colab_type": "code",
        "colab": {
          "base_uri": "https://localhost:8080/",
          "height": 85
        },
        "outputId": "2838f07f-21ce-4b52-95c7-214fd29ff161"
      },
      "source": [
        "# Student Action: Interchange the 'planet1_name' value with 'plane2_name' value and 'planet_dia' value with 'planet2_value'\n",
        "planet1_name, planet2_name = planet2_name, planet1_name\n",
        "planet1_dia, planet2_dia = planet2_dia, planet1_dia\n",
        "print(planet1_name)\n",
        "print(planet1_dia) \n",
        "print(planet2_name) \n",
        "print(planet2_dia)"
      ],
      "execution_count": null,
      "outputs": [
        {
          "output_type": "stream",
          "text": [
            "Saturn\n",
            "120536\n",
            "Mercury\n",
            "4789\n"
          ],
          "name": "stdout"
        }
      ]
    },
    {
      "cell_type": "markdown",
      "metadata": {
        "id": "AI0hVS_SICnm",
        "colab_type": "text"
      },
      "source": [
        "So after value swapping:\n",
        "\n",
        "- The `planet1_name` value is changed to `'Saturn'` from `'Mercury'`.\n",
        "\n",
        "- The `planet2_name` value is changed to `'Mercury'` from `'Saturn'`.\n",
        "\n",
        "- The `planet1_dia` value is changed to `120536` from `4879`.\n",
        "\n",
        "- The `planet2_dia` value is changed to `4879` from `120536`.\n"
      ]
    },
    {
      "cell_type": "markdown",
      "metadata": {
        "id": "AO3gyMPhHSW8",
        "colab_type": "text"
      },
      "source": [
        "---"
      ]
    },
    {
      "cell_type": "markdown",
      "metadata": {
        "id": "rfyXS8uTHI8E",
        "colab_type": "text"
      },
      "source": [
        "### Wrap-Up\n",
        "\n",
        "```\n",
        "TEACHER\n",
        "  Could you think of ways in which we can make our computer pattern smarter?\n",
        "\n",
        "EXPECTED STUDENT RESPONSE\n",
        "  Student discusses his/her ideas of ways in which a computer could capture \n",
        "  the pattern of data entered by the user and make accurate predictions.\n",
        "\n",
        "\n",
        "TEACHER\n",
        "  Our program is making random predictions for now. But in the subsequent \n",
        "  classes, we will learn how to enable the computer to make accurate \n",
        "  predictions based on the previous inputs entered by a player in the game.\n",
        "\n",
        "  Could you quickly summarise what we learned in this class?\n",
        "\n",
        "EXPECTED STUDENT RESPONSE\n",
        "  We learnt:\n",
        "    1. The 'print()' function\n",
        "    2. The 'input()' function\n",
        "    3. The 'random' module and the 'randint()' function.\n",
        "    4. The variables and data-types\n",
        "    5. How to create a very simple algorithm for the Mind Reader game where \n",
        "       a computer can predict a player's next move.\n",
        "\n",
        "\n",
        "TEACHER\n",
        "  Absolutely correct. Great job! Now I want you to watch a video. You can\n",
        "  find the link to the video in the 'Activities' section under the title \n",
        "  'Ride in NVIDIA's Self-Driving Car'. After opening the video, skip to the \n",
        "  timestamp 2:08, i.e., 2 minutes and 8 seconds in the video. Then pause the \n",
        "  video.\n",
        "\n",
        "EXPECTED STUDENT RESPONSE\n",
        "  The student opens the video, pauses it and skips to the prescribed \n",
        "  timestamp in the video.\n",
        "\n",
        "\n",
        "TEACHER \n",
        "  This video shows how a car drives itself by detecting lanes, traffic \n",
        "  signs and other cars on the road. A company called NVIDIA has successfully \n",
        "  created technology which allows a car to drive on its own. The narrator in \n",
        "  the video will use some technical terms which may sound gibberish to you. \n",
        "  Just focus on the lane in which the car moves and how the car changes \n",
        "  lanes on its own. Also, notice the boxes around other vehicles and colours \n",
        "  of the adjacent lanes.\n",
        "\n",
        "  Note:\n",
        "   - Ask the student to stop playing the video at the timestamp 6:55.\n",
        "\n",
        "EXPECTED STUDENT RESPONSE\n",
        "  The student plays the video from 2:08 and stops it at 6:55.\n",
        "\n",
        "\n",
        "TEACHER\n",
        "  Did you like the video?\n",
        "\n",
        "EXPECTED STUDENT RESPONSE\n",
        "  Yes, teacher. It liked it.\n",
        "\n",
        "\n",
        "TEACHER\n",
        "  What did you notice in the video.\n",
        "\n",
        "EXPECTED STUDENT RESPONSE\n",
        "  - There were boxes around other vehicles.\n",
        "  - The car was moving in the green coloured lane.\n",
        "  - The path perception ensemble (the thick green patch) was green which \n",
        "    means the car was confident that it was moving in the correct lane. It \n",
        "    split briefly which then car was taking the right turn.\n",
        "  - The car could easily do the manoeuvres such as lane change, drive uphill \n",
        "    on a sharp right turn and driving in the heavy traffic conditions.\n",
        "\n",
        "\n",
        "TEACHER\n",
        "  That's impressive! You are absolutely correct. You have understood the \n",
        "  video very well. It briefly outlines the principles of a driverless car. \n",
        "  In this course, you will learn how a computer is able to recognise \n",
        "  different lanes on a road, other vehicles and traffic signs so that it can \n",
        "  drive on its own.\n",
        "  \n",
        "  I hope you had fun in this class and hope to see you in the upcoming \n",
        "  classes to learn Python programming. Bye!\n",
        "\n",
        "EXPECTED STUDENT RESPONSE\n",
        "  Bye teacher!\n",
        "```"
      ]
    },
    {
      "cell_type": "markdown",
      "metadata": {
        "id": "LGkvSFFHBlwT",
        "colab_type": "text"
      },
      "source": [
        "---"
      ]
    },
    {
      "cell_type": "markdown",
      "metadata": {
        "id": "VEuyOFVoEs5w",
        "colab_type": "text"
      },
      "source": [
        "### Activities\n",
        "\n",
        "**Teacher Activities**\n",
        "\n",
        "1. Mind Reader Game \n",
        "\n",
        "   https://mindreader.whitehatjr.com/\n",
        "\n",
        "2. Mind Reader Game - Variables & Data-Types (Class Copy)\n",
        "\n",
        "   https://colab.research.google.com/drive/1Lorgslcbrwpn_5vDfyoJTQ-sXQszFIFB\n",
        "\n",
        "3. Mind Reader Game - Variables & Data-Types (Reference)\n",
        "\n",
        "   https://colab.research.google.com/drive/16FklrS2gC0-9lIT7bleTMmdJ_83Yh-Yy\n",
        " \n",
        "4. NASA Planetary Fact Sheet\n",
        "\n",
        "   https://nssdc.gsfc.nasa.gov/planetary/factsheet/\n",
        "\n",
        "5. Ride in NVIDIA's Self-Driving Car\n",
        "\n",
        "   https://www.youtube.com/watch?v=1W9q5SjaJTc\n",
        "\n",
        "\n",
        "**Student Activities**\n",
        "\n",
        " \n",
        "1. Mind Reader Game\n",
        "\n",
        "   https://mindreader.whitehatjr.com/\n",
        "\n",
        "2. NASA Planetary Fact Sheet\n",
        "\n",
        "   https://nssdc.gsfc.nasa.gov/planetary/factsheet/\n",
        "  \n",
        "3. Ride in NVIDIA's Self-Driving Car\n",
        "\n",
        "   https://www.youtube.com/watch?v=1W9q5SjaJTc\n",
        "\n"
      ]
    },
    {
      "cell_type": "markdown",
      "metadata": {
        "id": "VMLg-lD4EsOy",
        "colab_type": "text"
      },
      "source": [
        "---"
      ]
    }
  ]
}