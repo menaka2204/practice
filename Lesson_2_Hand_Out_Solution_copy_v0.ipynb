{
  "nbformat": 4,
  "nbformat_minor": 0,
  "metadata": {
    "colab": {
      "name": "Lesson 2 Hand Out - Solution copy_v0",
      "provenance": [],
      "collapsed_sections": [],
      "include_colab_link": true
    },
    "kernelspec": {
      "name": "python3",
      "display_name": "Python 3"
    }
  },
  "cells": [
    {
      "cell_type": "markdown",
      "metadata": {
        "id": "view-in-github",
        "colab_type": "text"
      },
      "source": [
        "<a href=\"https://colab.research.google.com/github/menaka2204/practice/blob/master/Lesson_2_Hand_Out_Solution_copy_v0.ipynb\" target=\"_parent\"><img src=\"https://colab.research.google.com/assets/colab-badge.svg\" alt=\"Open In Colab\"/></a>"
      ]
    },
    {
      "cell_type": "markdown",
      "metadata": {
        "id": "YZnBY81YDCCr",
        "colab_type": "text"
      },
      "source": [
        "### Table of Contents\n",
        "\n",
        "Here is a list of Activities that you will be performing in this Hand Out.\n",
        "\n",
        "  1. Print Even Numbers from 60 - 100\n",
        "\n",
        "  2. Add Natural Numbers upto `n`\n",
        "\n",
        "  3. Print Multiples of a Number "
      ]
    },
    {
      "cell_type": "markdown",
      "metadata": {
        "id": "BBqkpH4_Doqe",
        "colab_type": "text"
      },
      "source": [
        "---"
      ]
    },
    {
      "cell_type": "markdown",
      "metadata": {
        "id": "q4fH06mIjuK3",
        "colab_type": "text"
      },
      "source": [
        "### Activity 1: Print Even Numbers from 60 - 100\n",
        "\n",
        "You can print even numbers or odd numbers between any given range of numbers simply using a while loop.\n",
        "\n",
        "Here you need to print all the even numbers from 60 - 100 (including both 60 & 100) using `while` loop. \n"
      ]
    },
    {
      "cell_type": "code",
      "metadata": {
        "id": "4EAoTskqg041",
        "colab_type": "code",
        "colab": {
          "base_uri": "https://localhost:8080/",
          "height": 374
        },
        "outputId": "a00dccf4-00ec-4e21-ceec-7cffc6b20c66"
      },
      "source": [
        "# Even numbers from 60 - 100\n",
        "num = 60\n",
        "while(num <= 100):\n",
        "    print(num)\n",
        "    num = num + 2"
      ],
      "execution_count": null,
      "outputs": [
        {
          "output_type": "stream",
          "text": [
            "60\n",
            "62\n",
            "64\n",
            "66\n",
            "68\n",
            "70\n",
            "72\n",
            "74\n",
            "76\n",
            "78\n",
            "80\n",
            "82\n",
            "84\n",
            "86\n",
            "88\n",
            "90\n",
            "92\n",
            "94\n",
            "96\n",
            "98\n",
            "100\n"
          ],
          "name": "stdout"
        }
      ]
    },
    {
      "cell_type": "markdown",
      "metadata": {
        "id": "xJlPs9X9oeRw",
        "colab_type": "text"
      },
      "source": [
        "---"
      ]
    },
    {
      "cell_type": "markdown",
      "metadata": {
        "id": "qA-b1CdeofKc",
        "colab_type": "text"
      },
      "source": [
        "### Activity 2: Add Natural Numbers upto `n`\n",
        "\n",
        "Here you need to print the sum of natural numbers upto any given number `n` using a `while` loop.  \n",
        "\n",
        "Suppose `n` is any number taken from a user in a range between 10 - 20. You need to print the sum of natural numbers till `n`. \n",
        "\n",
        "For eg. if `n = 10`, then `result` = 1 + 2 + 3 +\n",
        "….. 9 + 10, i.e. `55`. \n",
        "\n",
        "If the user enters a number apart from the range 10 to 20, then force the user to enter a number between 10 to 20.\n",
        "\n",
        "You need to follow the below steps to achieve the desired result for the above problem statement:\n",
        "\n",
        "  - Step 1: Get the input from user to enter a number between 10 - 20 and store it in a variable `n`.\n",
        "\n",
        "  - Step 2: Convert the data type of user input to integer and store it in a variable `user_input`.\n",
        "\n",
        "  - Step 3: Check whether the user has entered a number in a range between 10 - 20 using a `while` loop. If the number is not between 10 - 20 then repeat Step 1 and 2 until the user enters a number only between 10 - 20.\n",
        "\n",
        "  - Step 4: Initialize two variables- \n",
        "\n",
        "    1. `result` = 0 (To store the sum of natural numbers)\n",
        "    \n",
        "    2. `count` = 1 (To make sure the `while` loop is executed upto `n`). \n",
        "\n",
        "  - Step 5: Calculate the sum of natural numbers in a `while` loop and store it in `result` variable. Increment the value of count each time the loop is executed.\n",
        "\n",
        "  - Step 6: Print the result. (The sum of natural numbers upto `n` is `result`)\n",
        "\n"
      ]
    },
    {
      "cell_type": "code",
      "metadata": {
        "id": "AtvPTG3kpBoS",
        "colab_type": "code",
        "colab": {}
      },
      "source": [
        "# Print the sum of natural numbers upto n\n",
        "# Step 1 : Get the input from user to enter a number between 10 - 20 and store it in variable n\n",
        "n = input(\"Enter any number between 10 to 20: \")\n",
        "\n",
        "# Step 2 : Convert the data type of user input to integer and store it in a variable user_input\n",
        "user_input = int(n)\n",
        "\n",
        "# Step 3 : Check whether the user has entered a number in a range between 10 - 20 using a while loop. \n",
        "while(user_input < 10 or user_input > 20):\n",
        "    n = input(\"Please enter a number between 10 to 20: \")\n",
        "    user_input = int(n)\n",
        "\n",
        "# Step 4 : Initialize two variables 1. result = 0 and 2. count = 1\n",
        "result = 0\n",
        "count = 1\n",
        "\n",
        "# Step 5 : Calculate the sum of the natural numbers in a while loop and store it in result variable.\n",
        "# Increment the value of count\n",
        "while count <= user_input:\n",
        "    result = result + count\n",
        "    count = count + 1   \n",
        "\n",
        "# Step 6 : Print the result\n",
        "print(\"The sum of natural numbers upto\", n, \"is\", result)\n"
      ],
      "execution_count": null,
      "outputs": []
    },
    {
      "cell_type": "markdown",
      "metadata": {
        "id": "KOVBiUSMzut1",
        "colab_type": "text"
      },
      "source": [
        "---"
      ]
    },
    {
      "cell_type": "markdown",
      "metadata": {
        "id": "omNV0VCwzzNK",
        "colab_type": "text"
      },
      "source": [
        "### Activity 3: Print Multiples of a Number\n",
        "\n",
        "Here you need to print the first 10 multiples of any number using a `while` loop. \n",
        "\n",
        "You should get the number as an input from the user.\n",
        "\n",
        "For eg. - If the user enters `2` then the first 10 multiples of `2` are 2, 4, 6, 8, 10, 12, 14, 16, 18 and 20. \n",
        "\n",
        "You have to follow the steps given below to achieve the desired result for the above problem statement:\n",
        "\n",
        "  - Step 1: Get the input from user to enter a number between 10 - 20 and store it in variable `user_input`.\n",
        "\n",
        "  - Step 2: Convert the data type of user input to integer and store it in a variable `num`.\n",
        "\n",
        "  - Step 3: Initialize two variables \n",
        "\n",
        "    1. `multiple` = `num` (Multiple will be starting with the number itself).\n",
        "    \n",
        "    2. `count` = 1 (To make sure the `while` loop is executed only upto 10). \n",
        "\n",
        "  - Step 4 : Create a `while` loop and print `num` and then calculate the multiple of the number by adding the value stored in `num` and `multiple` and store it in variable `num`. Increment the value of count each time the loop is executed."
      ]
    },
    {
      "cell_type": "code",
      "metadata": {
        "id": "3ekesgnN2ELc",
        "colab_type": "code",
        "colab": {
          "base_uri": "https://localhost:8080/",
          "height": 204
        },
        "outputId": "903bab66-b741-4264-abfc-b9d522a4ef81"
      },
      "source": [
        "# Print the first 10 multiples of a number\n",
        "# Step 1 : Get the input from user to enter a number between 10 - 20 and store it in variable user_input\n",
        "user_input = input(\"Enter a number: \")\n",
        "\n",
        "# Step 2 : Convert the data type of user input to integer and store it in a variable num\n",
        "num = int(user_input)\n",
        "\n",
        "# Step 3 :  Initialize two variables 1. multiple and 2. count\n",
        "multiple = num\n",
        "count = 1\n",
        "\n",
        "\n",
        "# Step 5 - while loop will repeat itself as long as count <= 10 remains True\n",
        "while count <= 10:\n",
        "    print(num)\n",
        "    #increment the value of num\n",
        "    num = num + multiple\n",
        "    count = count + 1\n"
      ],
      "execution_count": null,
      "outputs": [
        {
          "output_type": "stream",
          "text": [
            "Enter a number: 5\n",
            "5\n",
            "10\n",
            "15\n",
            "20\n",
            "25\n",
            "30\n",
            "35\n",
            "40\n",
            "45\n",
            "50\n"
          ],
          "name": "stdout"
        }
      ]
    },
    {
      "cell_type": "markdown",
      "metadata": {
        "id": "QQw2Bqml3ZN0",
        "colab_type": "text"
      },
      "source": [
        "---"
      ]
    },
    {
      "cell_type": "markdown",
      "metadata": {
        "id": "BNlGj8NNJ1Y0",
        "colab_type": "text"
      },
      "source": [
        "### How To Solve & Submit The Hand Out\n",
        "\n",
        "Follow the steps described below to solve the Hand Out and then submit it.\n",
        "\n",
        "1. Click on the link provided below to open the Colab file for this Hand Out.\n",
        "   \n",
        "  https://colab.research.google.com/drive/1RVSAthrUEnH4JafDWvyu4icEjOO7q14X \n",
        "\n",
        "2. Create the duplicate copy of the Colab file. Here are the steps to create the duplicate copy:\n",
        "\n",
        "    - Click on the **File** menu. A new drop-down list will appear.\n",
        "\n",
        "      <img src='https://student-datasets-bucket.s3.ap-south-1.amazonaws.com/images/lesson-0/0_file_menu.png' width=500>\n",
        "\n",
        "    - Click on the **Save a copy in Drive** option. A duplicate copy will get created. It will open up in the new tab on your web browser.\n",
        "\n",
        "      <img src='https://student-datasets-bucket.s3.ap-south-1.amazonaws.com/images/lesson-0/1_create_colab_duplicate_copy.png' width=500>\n",
        "\n",
        "     - After creating the duplicate copy of the notebook, please rename it in the **YYYY-MM-DD_StudentName_Handout2** format. \n",
        "\n",
        "3. Now, write your code in the prescribed code cells.\n",
        "\n",
        "4. After finishing the Hand Out, click on the **Share** button on the top right corner of the notebook. A new dialog box will appear.\n",
        "\n",
        "  <img src='https://student-datasets-bucket.s3.ap-south-1.amazonaws.com/images/lesson-0/2_share_button.png' width=500>\n",
        "\n",
        "5. In the dialog box, make sure that 'Anyone with the link **can view**' option is selected and then click on the **Copy link** button.\n",
        "\n",
        "   <img src='https://student-datasets-bucket.s3.ap-south-1.amazonaws.com/images/project-1/1_copy_link.png' width=500>\n",
        "\n",
        "6. The link of the duplicate copy (named as **YYYY-MM-DD_StudentName_Handout2**) of the notebook will get copied which you can paste in the submission box on the WhiteHat Jr project submission interface.\n",
        "\n",
        "   <img src='https://student-datasets-bucket.s3.ap-south-1.amazonaws.com/images/project-1/2_copy_link_confirmation.png' width=500>"
      ]
    }
  ]
}